{
 "cells": [
  {
   "cell_type": "code",
   "execution_count": 1,
   "metadata": {},
   "outputs": [],
   "source": [
    "# Quickstart spark session create\n",
    "# import pyspark\n",
    "# spark = pyspark.sql.SparkSession.builder.getOrCreate()"
   ]
  },
  {
   "cell_type": "code",
   "execution_count": 4,
   "metadata": {},
   "outputs": [],
   "source": [
    "# More verbose\n",
    "# import multiprocessing\n",
    "# import pyspark\n",
    "\n",
    "# nprocs = multiprocessing.cpu_count()\n",
    "\n",
    "# spark = (pyspark.sql.SparkSession.builder\n",
    "#  .master('local')\n",
    "#  .config('spark.jars.packages', 'mysql:mysql-connector-java:8.0.16')\n",
    "#  .config('spark.driver.memory', '4G')\n",
    "#  .config('spark.driver.cores', nprocs)\n",
    "#  .config('spark.sql.shuffle.partitions', nprocs)\n",
    "#  .appName('MySparkApplication')\n",
    "#  .getOrCreate())\n"
   ]
  },
  {
   "cell_type": "code",
   "execution_count": 5,
   "metadata": {},
   "outputs": [],
   "source": [
    "import pyspark.sql.functions as F"
   ]
  },
  {
   "cell_type": "code",
   "execution_count": 14,
   "metadata": {},
   "outputs": [],
   "source": [
    "from pyspark.sql import SparkSession\n",
    "\n",
    "spark = SparkSession.builder.master(\"local\").appName(\"mylocalconnection\").getOrCreate()\n"
   ]
  },
  {
   "cell_type": "code",
   "execution_count": 15,
   "metadata": {},
   "outputs": [],
   "source": [
    "weekdays = spark.createDataFrame([(\"Monday\", ), (\"Tuesday\", ), (\"Wednesday\", )], schema=[\"day\"])\n",
    "beatles = spark.createDataFrame([('John', 'guitar'), ('Paul', 'bass'),\n",
    "                                 ('George', 'guitar'), ('Ringo', 'drums')],\n",
    "                                schema=['band_member', 'instrument'])"
   ]
  },
  {
   "cell_type": "code",
   "execution_count": 20,
   "metadata": {},
   "outputs": [
    {
     "name": "stdout",
     "output_type": "stream",
     "text": [
      "root\n",
      " |-- day: string (nullable = true)\n",
      "\n",
      "+---------+\n",
      "|      day|\n",
      "+---------+\n",
      "|   Monday|\n",
      "|  Tuesday|\n",
      "|Wednesday|\n",
      "+---------+\n",
      "\n"
     ]
    }
   ],
   "source": [
    "weekdays.printSchema()\n",
    "weekdays.show()"
   ]
  },
  {
   "cell_type": "code",
   "execution_count": 21,
   "metadata": {},
   "outputs": [
    {
     "name": "stdout",
     "output_type": "stream",
     "text": [
      "+-----------+----------+\n",
      "|band_member|instrument|\n",
      "+-----------+----------+\n",
      "|       John|    guitar|\n",
      "|       Paul|      bass|\n",
      "|     George|    guitar|\n",
      "|      Ringo|     drums|\n",
      "+-----------+----------+\n",
      "\n"
     ]
    }
   ],
   "source": [
    "beatles.show()"
   ]
  },
  {
   "cell_type": "code",
   "execution_count": null,
   "metadata": {},
   "outputs": [],
   "source": []
  }
 ],
 "metadata": {
  "kernelspec": {
   "display_name": "Python 3",
   "language": "python",
   "name": "python3"
  },
  "language_info": {
   "codemirror_mode": {
    "name": "ipython",
    "version": 3
   },
   "file_extension": ".py",
   "mimetype": "text/x-python",
   "name": "python",
   "nbconvert_exporter": "python",
   "pygments_lexer": "ipython3",
   "version": "3.7.3"
  }
 },
 "nbformat": 4,
 "nbformat_minor": 2
}
